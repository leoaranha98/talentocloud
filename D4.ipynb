{
 "cells": [
  {
   "cell_type": "markdown",
   "metadata": {},
   "source": [
    "Desenvolva um programa que recebe do usuário nome completo e ano de nascimento que seja entre 1922 e 2021.\n",
    "A partir dessas informações, o sistema mostrará o nome do usuário e a idade que completou, ou completará, no ano atual (2022).\n",
    "\n",
    "Caso o usuário não digite um número ou apareça um inválido no campo do ano, o sistema informará o erro e continuará perguntando até que um valor correto seja preenchido."
   ]
  },
  {
   "cell_type": "code",
   "execution_count": 1,
   "metadata": {},
   "outputs": [
    {
     "name": "stdout",
     "output_type": "stream",
     "text": [
      "Nome: Leonardo Aranha\n",
      "Idade em 2022: 25 anos\n"
     ]
    }
   ],
   "source": [
    "\n",
    "while True:\n",
    "\n",
    "    nome = input(\"Digite o seu nome completo: \")\n",
    "    anoNascimento = int(input(\"Digite o seu ano de nascimento: \"))\n",
    "\n",
    "    try:\n",
    "        \n",
    "        if 1922 <= anoNascimento <= 2021:\n",
    "            ano_atual = 2023\n",
    "            idade = ano_atual - anoNascimento\n",
    "            print(f\"Nome: {nome}\")\n",
    "            print(f\"Idade em 2022: {idade} anos\")\n",
    "            break\n",
    "\n",
    "        else:\n",
    "            print(\"O ano de nascimento deve estar entre 1922 e 2021.\")\n",
    "\n",
    "    except ValueError:\n",
    "        print(\"Digite um número válido.\")\n",
    "    \n",
    "\n",
    "\n",
    " "
   ]
  },
  {
   "cell_type": "code",
   "execution_count": null,
   "metadata": {},
   "outputs": [],
   "source": []
  }
 ],
 "metadata": {
  "kernelspec": {
   "display_name": "Python 3",
   "language": "python",
   "name": "python3"
  },
  "language_info": {
   "codemirror_mode": {
    "name": "ipython",
    "version": 3
   },
   "file_extension": ".py",
   "mimetype": "text/x-python",
   "name": "python",
   "nbconvert_exporter": "python",
   "pygments_lexer": "ipython3",
   "version": "3.9.2"
  }
 },
 "nbformat": 4,
 "nbformat_minor": 2
}
