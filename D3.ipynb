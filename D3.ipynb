{
 "cells": [
  {
   "cell_type": "markdown",
   "metadata": {},
   "source": [
    "Faça uma função calculadora que os números e as operações serão feitas pelo usuário. O código deve ficar rodando infinitamente até que o usuário escolha a opção de sair. No início, o programa mostrará a seguinte lista de operações:\n",
    "\n",
    "1: Soma\n",
    "2: Subtração\n",
    "3: Multiplicação\n",
    "4: Divisão\n",
    "0: Sair\n",
    "\n",
    "Digite o número para a operação correspondente e caso o usuário introduza qualquer outro, o sistema deve mostrar a mensagem “Essa opção não existe” e voltar ao menu de opções.\n",
    "\n",
    "Após a seleção, o sistema deve pedir para o usuário inserir o primeiro e segundo valor, um de cada. Depois precisa executar a operação e mostrar o resultado na tela. Quando o usuário escolher a opção “Sair”, o sistema irá parar.\n",
    "\n",
    "É necessário que o sistema mostre as opções sempre que finalizar uma operação e mostrar o resultado. \n"
   ]
  },
  {
   "cell_type": "code",
   "execution_count": 3,
   "metadata": {},
   "outputs": [],
   "source": [
    "def calculadora(number1, number2, operacao):\n",
    "    if operacao == 1:\n",
    "        return number1 + number2\n",
    "    elif operacao == 2:\n",
    "        return number1 - number2\n",
    "    elif operacao == 3:\n",
    "        return number1 * number2\n",
    "    elif operacao == 4:\n",
    "        if number2 == 0:\n",
    "            return \"Divisão por zero não é permitida.\"\n",
    "        else:\n",
    "            return number1 / number2\n",
    "    else:\n",
    "        return 0\n",
    "\n",
    "while True:\n",
    "    operacao = int(input(\n",
    "        \"\"\"Digite Um número: \n",
    "1: Soma\n",
    "2: Subtração\n",
    "3: Multiplicação\n",
    "4: Divisão\n",
    "0: Sair\n",
    "\"\"\"))\n",
    "\n",
    "    if operacao == 0:\n",
    "        break\n",
    "\n",
    "    if operacao not in [1, 2, 3, 4]:\n",
    "        print(\"Essa opção não existe\")\n",
    "        continue\n",
    "\n",
    "    num1 = float(input(\"Digite o primeiro número: \"))\n",
    "    num2 = float(input(\"Digite o segundo número: \"))\n",
    "\n",
    "    resultado = calculadora(num1, num2, operacao)\n",
    "    print(\"Resultado:\", resultado)\n"
   ]
  }
 ],
 "metadata": {
  "kernelspec": {
   "display_name": "Python 3",
   "language": "python",
   "name": "python3"
  },
  "language_info": {
   "codemirror_mode": {
    "name": "ipython",
    "version": 3
   },
   "file_extension": ".py",
   "mimetype": "text/x-python",
   "name": "python",
   "nbconvert_exporter": "python",
   "pygments_lexer": "ipython3",
   "version": "3.9.2"
  }
 },
 "nbformat": 4,
 "nbformat_minor": 2
}
