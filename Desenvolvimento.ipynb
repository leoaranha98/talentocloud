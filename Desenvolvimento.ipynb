{
 "cells": [
  {
   "cell_type": "code",
   "execution_count": 1,
   "metadata": {},
   "outputs": [
    {
     "name": "stdout",
     "output_type": "stream",
     "text": [
      "Andar 20\n",
      "Andar 19\n",
      "Andar 18\n",
      "Andar 17\n",
      "Andar 16\n",
      "Andar 15\n",
      "Andar 14\n",
      "Andar 12\n",
      "Andar 11\n",
      "Andar 10\n",
      "Andar 9\n",
      "Andar 8\n",
      "Andar 7\n",
      "Andar 6\n",
      "Andar 5\n",
      "Andar 4\n",
      "Andar 3\n",
      "Andar 2\n",
      "Andar 1\n"
     ]
    }
   ],
   "source": [
    "#Utilizando o loop for\n",
    "\n",
    "for i in range(20,0,-1):\n",
    "    if i != 13: \n",
    "        print(\"Andar\", i)"
   ]
  },
  {
   "cell_type": "code",
   "execution_count": 12,
   "metadata": {},
   "outputs": [
    {
     "name": "stdout",
     "output_type": "stream",
     "text": [
      "Andar 20\n",
      "Andar 19\n",
      "Andar 18\n",
      "Andar 17\n",
      "Andar 16\n",
      "Andar 15\n",
      "Andar 14\n",
      "Andar 12\n",
      "Andar 11\n",
      "Andar 10\n",
      "Andar 9\n",
      "Andar 8\n",
      "Andar 7\n",
      "Andar 6\n",
      "Andar 5\n",
      "Andar 4\n",
      "Andar 3\n",
      "Andar 2\n",
      "Andar 1\n"
     ]
    }
   ],
   "source": [
    "andar = 20\n",
    "\n",
    "while andar >= 1: \n",
    "    if andar != 13: \n",
    "        print(\"Andar\", andar)\n",
    "    andar = andar - 1\n"
   ]
  },
  {
   "cell_type": "code",
   "execution_count": 5,
   "metadata": {},
   "outputs": [
    {
     "name": "stdout",
     "output_type": "stream",
     "text": [
      "Andar: 20\n",
      "Andar: 19\n",
      "Andar: 18\n",
      "Andar: 17\n",
      "Andar: 16\n",
      "Andar: 15\n",
      "Andar: 14\n",
      "Andar: 12\n",
      "Andar: 11\n",
      "Andar: 10\n",
      "Andar: 9\n",
      "Andar: 8\n",
      "Andar: 7\n",
      "Andar: 6\n",
      "Andar: 5\n",
      "Andar: 4\n",
      "Andar: 3\n",
      "Andar: 2\n",
      "Andar: 1\n"
     ]
    }
   ],
   "source": [
    "andar = 20\n",
    "while True:\n",
    "    if andar != 13:\n",
    "        print(\"Andar:\", andar)\n",
    "    andar = andar - 1\n",
    "    if andar < 1:\n",
    "        break\n"
   ]
  },
  {
   "cell_type": "code",
   "execution_count": null,
   "metadata": {},
   "outputs": [],
   "source": []
  }
 ],
 "metadata": {
  "kernelspec": {
   "display_name": "Python 3",
   "language": "python",
   "name": "python3"
  },
  "language_info": {
   "codemirror_mode": {
    "name": "ipython",
    "version": 3
   },
   "file_extension": ".py",
   "mimetype": "text/x-python",
   "name": "python",
   "nbconvert_exporter": "python",
   "pygments_lexer": "ipython3",
   "version": "3.9.2"
  },
  "orig_nbformat": 4
 },
 "nbformat": 4,
 "nbformat_minor": 2
}
