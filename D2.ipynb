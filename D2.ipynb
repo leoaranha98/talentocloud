{
 "cells": [
  {
   "cell_type": "code",
   "execution_count": 1,
   "metadata": {},
   "outputs": [
    {
     "name": "stdout",
     "output_type": "stream",
     "text": [
      "Resultado: 30.0\n"
     ]
    }
   ],
   "source": [
    "def calculadora(number1, number2, operacao):\n",
    "    if operacao == 1:\n",
    "        return number1 + number2\n",
    "    elif operacao == 2: \n",
    "        return number1 - number2\n",
    "    elif operacao == 3: \n",
    "        return number1 * number2\n",
    "    elif operacao == 4: \n",
    "        if number2 == 0:\n",
    "            return \"Divisão por zero não é permitida.\"\n",
    "        else:\n",
    "            return number1 / number2\n",
    "    else: \n",
    "        return 0\n",
    "\n",
    "number1 = float(input(\"Digite o primeiro número: \"))\n",
    "number2 = float(input(\"Digite o segundo número: \"))\n",
    "operacao = int(input(\"Escolha a operação (1 para soma, 2 para subtração, 3 para multiplicação, 4 para divisão): \"))\n",
    "\n",
    "resultado = calculadora(number1, number2, operacao)\n",
    "\n",
    "print(\"Resultado:\", resultado)\n",
    "\n"
   ]
  }
 ],
 "metadata": {
  "kernelspec": {
   "display_name": "Python 3",
   "language": "python",
   "name": "python3"
  },
  "language_info": {
   "codemirror_mode": {
    "name": "ipython",
    "version": 3
   },
   "file_extension": ".py",
   "mimetype": "text/x-python",
   "name": "python",
   "nbconvert_exporter": "python",
   "pygments_lexer": "ipython3",
   "version": "3.9.2"
  }
 },
 "nbformat": 4,
 "nbformat_minor": 2
}
